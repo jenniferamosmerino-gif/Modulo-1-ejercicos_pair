{
 "cells": [
  {
   "cell_type": "markdown",
   "id": "d10bd3db",
   "metadata": {},
   "source": [
    "# Ejercicios"
   ]
  },
  {
   "cell_type": "code",
   "execution_count": 1,
   "id": "e40f0fa2",
   "metadata": {},
   "outputs": [],
   "source": [
    "## Haz una lista llamada colores donde almacenemos los primeros 6 colores que te vengan a la mente.\n",
    "\n",
    "colores = [\"azul\", \"verde\", \"amarillo\", \"rojo\", \"blanco\", \"naranja\"]"
   ]
  },
  {
   "cell_type": "code",
   "execution_count": 2,
   "id": "bbd9721a",
   "metadata": {},
   "outputs": [],
   "source": [
    "## Haz una lista llamada buses de las líneas de autobuses que pasan por tu casa.\n",
    "buses = [1, 2, 3, 4, 5, 6, 12]"
   ]
  },
  {
   "cell_type": "code",
   "execution_count": 3,
   "id": "3c0f4915",
   "metadata": {},
   "outputs": [],
   "source": [
    "##Apunta la previsión de temperaturas máximas para todos los días de esta semana en temperaturas\n",
    "\n",
    "temperatura = [25,22,24,15,17,12,26]"
   ]
  },
  {
   "cell_type": "code",
   "execution_count": 35,
   "id": "45c9a7bd",
   "metadata": {},
   "outputs": [],
   "source": [
    "## Convierte tu(s) nombre(s) a una lista nombres de caracteres.\n",
    "\n",
    "nombres = 'Jennifer'"
   ]
  },
  {
   "cell_type": "code",
   "execution_count": 14,
   "id": "c6c0c392",
   "metadata": {},
   "outputs": [],
   "source": [
    "apellidos = 'Ramos Merino'"
   ]
  },
  {
   "cell_type": "code",
   "execution_count": 5,
   "id": "64cc5e91",
   "metadata": {},
   "outputs": [
    {
     "data": {
      "text/plain": [
       "7"
      ]
     },
     "execution_count": 5,
     "metadata": {},
     "output_type": "execute_result"
    }
   ],
   "source": [
    "len(buses)"
   ]
  },
  {
   "cell_type": "code",
   "execution_count": 36,
   "id": "47ca4a76",
   "metadata": {},
   "outputs": [
    {
     "data": {
      "text/plain": [
       "['J', 'e', 'n', 'n', 'i', 'f', 'e', 'r']"
      ]
     },
     "execution_count": 36,
     "metadata": {},
     "output_type": "execute_result"
    }
   ],
   "source": [
    "list(nombres)"
   ]
  },
  {
   "cell_type": "code",
   "execution_count": 15,
   "id": "f60fefe9",
   "metadata": {},
   "outputs": [
    {
     "data": {
      "text/plain": [
       "['R', 'a', 'm', 'o', 's', ' ', 'M', 'e', 'r', 'i', 'n', 'o']"
      ]
     },
     "execution_count": 15,
     "metadata": {},
     "output_type": "execute_result"
    }
   ],
   "source": [
    "list(apellidos)"
   ]
  },
  {
   "cell_type": "code",
   "execution_count": 16,
   "id": "68bc2107",
   "metadata": {},
   "outputs": [
    {
     "data": {
      "text/plain": [
       "12"
      ]
     },
     "execution_count": 16,
     "metadata": {},
     "output_type": "execute_result"
    }
   ],
   "source": [
    "len(apellidos)\n"
   ]
  },
  {
   "cell_type": "code",
   "execution_count": 17,
   "id": "c03e9937",
   "metadata": {},
   "outputs": [
    {
     "data": {
      "text/plain": [
       "26"
      ]
     },
     "execution_count": 17,
     "metadata": {},
     "output_type": "execute_result"
    }
   ],
   "source": [
    "max(temperatura)"
   ]
  },
  {
   "cell_type": "code",
   "execution_count": 18,
   "id": "45548d0c",
   "metadata": {},
   "outputs": [
    {
     "data": {
      "text/plain": [
       "12"
      ]
     },
     "execution_count": 18,
     "metadata": {},
     "output_type": "execute_result"
    }
   ],
   "source": [
    "min(temperatura)"
   ]
  },
  {
   "cell_type": "code",
   "execution_count": 20,
   "id": "828de0fd",
   "metadata": {},
   "outputs": [
    {
     "data": {
      "text/plain": [
       "True"
      ]
     },
     "execution_count": 20,
     "metadata": {},
     "output_type": "execute_result"
    }
   ],
   "source": [
    "\"e\" in nombres"
   ]
  },
  {
   "cell_type": "code",
   "execution_count": 21,
   "id": "6eae58bc",
   "metadata": {},
   "outputs": [
    {
     "data": {
      "text/plain": [
       "False"
      ]
     },
     "execution_count": 21,
     "metadata": {},
     "output_type": "execute_result"
    }
   ],
   "source": [
    "\"rosa\" in colores"
   ]
  },
  {
   "cell_type": "code",
   "execution_count": 22,
   "id": "1f3033d1",
   "metadata": {},
   "outputs": [
    {
     "data": {
      "text/plain": [
       "False"
      ]
     },
     "execution_count": 22,
     "metadata": {},
     "output_type": "execute_result"
    }
   ],
   "source": [
    "\"x\" in nombres"
   ]
  },
  {
   "cell_type": "code",
   "execution_count": 24,
   "id": "6e8227d9",
   "metadata": {},
   "outputs": [
    {
     "data": {
      "text/plain": [
       "True"
      ]
     },
     "execution_count": 24,
     "metadata": {},
     "output_type": "execute_result"
    }
   ],
   "source": [
    "\"J\" in nombres"
   ]
  },
  {
   "cell_type": "code",
   "execution_count": 25,
   "id": "38aed116",
   "metadata": {},
   "outputs": [],
   "source": [
    "Temperatura2 = temperatura.copy()"
   ]
  },
  {
   "cell_type": "code",
   "execution_count": 49,
   "id": "463b653b",
   "metadata": {},
   "outputs": [
    {
     "data": {
      "text/plain": [
       "[25, 22, 24, 15, 17, 12, 26]"
      ]
     },
     "execution_count": 49,
     "metadata": {},
     "output_type": "execute_result"
    }
   ],
   "source": [
    "Temperatura3 = temperatura.copy()\n",
    "Temperatura3"
   ]
  },
  {
   "cell_type": "code",
   "execution_count": 27,
   "id": "dd27e0da",
   "metadata": {},
   "outputs": [
    {
     "name": "stdout",
     "output_type": "stream",
     "text": [
      "[]\n"
     ]
    }
   ],
   "source": [
    "Temperatura2.clear()\n",
    "print(Temperatura2)"
   ]
  },
  {
   "cell_type": "code",
   "execution_count": 29,
   "id": "69fe13b6",
   "metadata": {},
   "outputs": [
    {
     "name": "stdout",
     "output_type": "stream",
     "text": [
      "[25, 22, 24, 15, 17, 12, 26]\n"
     ]
    }
   ],
   "source": [
    "print(temperatura)"
   ]
  },
  {
   "cell_type": "code",
   "execution_count": 38,
   "id": "5d3c4348",
   "metadata": {},
   "outputs": [
    {
     "data": {
      "text/plain": [
       "['J', 'e', 'n', 'n', 'i', 'f', 'e', 'r']"
      ]
     },
     "execution_count": 38,
     "metadata": {},
     "output_type": "execute_result"
    }
   ],
   "source": [
    "nombres = list(nombres)\n",
    "nombres"
   ]
  },
  {
   "cell_type": "code",
   "execution_count": 39,
   "id": "92b7ee23",
   "metadata": {},
   "outputs": [
    {
     "data": {
      "text/plain": [
       "['J', 'e', 'n', 'n', 'i', 'f', 'e', 'r']"
      ]
     },
     "execution_count": 39,
     "metadata": {},
     "output_type": "execute_result"
    }
   ],
   "source": [
    "nombres2 = nombres.copy()\n",
    "nombres2"
   ]
  },
  {
   "cell_type": "code",
   "execution_count": 40,
   "id": "6767c208",
   "metadata": {},
   "outputs": [
    {
     "data": {
      "text/plain": [
       "['R', 'a', 'm', 'o', 's', ' ', 'M', 'e', 'r', 'i', 'n', 'o']"
      ]
     },
     "execution_count": 40,
     "metadata": {},
     "output_type": "execute_result"
    }
   ],
   "source": [
    "apellidos = list(apellidos)\n",
    "apellidos"
   ]
  },
  {
   "cell_type": "code",
   "execution_count": 41,
   "id": "6963dc65",
   "metadata": {},
   "outputs": [
    {
     "data": {
      "text/plain": [
       "['R', 'a', 'm', 'o', 's', ' ', 'M', 'e', 'r', 'i', 'n', 'o']"
      ]
     },
     "execution_count": 41,
     "metadata": {},
     "output_type": "execute_result"
    }
   ],
   "source": [
    "apellidos2 = apellidos.copy()\n",
    "apellidos2"
   ]
  },
  {
   "cell_type": "code",
   "execution_count": 50,
   "id": "d970f216",
   "metadata": {},
   "outputs": [],
   "source": [
    "Temperatura3.sort()\n"
   ]
  },
  {
   "cell_type": "code",
   "execution_count": 51,
   "id": "33fcc01b",
   "metadata": {},
   "outputs": [
    {
     "name": "stdout",
     "output_type": "stream",
     "text": [
      "[12, 15, 17, 22, 24, 25, 26]\n"
     ]
    }
   ],
   "source": [
    "print(Temperatura3)"
   ]
  },
  {
   "cell_type": "code",
   "execution_count": 52,
   "id": "10790819",
   "metadata": {},
   "outputs": [],
   "source": [
    "Temperatura3.reverse()\n"
   ]
  },
  {
   "cell_type": "code",
   "execution_count": 54,
   "id": "a39af5c9",
   "metadata": {},
   "outputs": [
    {
     "name": "stdout",
     "output_type": "stream",
     "text": [
      "[26, 25, 24, 22, 17, 15, 12]\n"
     ]
    }
   ],
   "source": [
    "print(Temperatura3)"
   ]
  },
  {
   "cell_type": "code",
   "execution_count": 55,
   "id": "4e6fd70d",
   "metadata": {},
   "outputs": [
    {
     "name": "stdout",
     "output_type": "stream",
     "text": [
      "['J', 'e', 'e', 'f', 'i', 'n', 'n', 'r']\n"
     ]
    }
   ],
   "source": [
    "nombres2.sort()\n",
    "print(nombres2)"
   ]
  },
  {
   "cell_type": "code",
   "execution_count": 56,
   "id": "38477208",
   "metadata": {},
   "outputs": [
    {
     "name": "stdout",
     "output_type": "stream",
     "text": [
      "[' ', 'M', 'R', 'a', 'e', 'i', 'm', 'n', 'o', 'o', 'r', 's']\n"
     ]
    }
   ],
   "source": [
    "apellidos2.sort()\n",
    "print(apellidos2)"
   ]
  }
 ],
 "metadata": {
  "kernelspec": {
   "display_name": "base",
   "language": "python",
   "name": "python3"
  },
  "language_info": {
   "codemirror_mode": {
    "name": "ipython",
    "version": 3
   },
   "file_extension": ".py",
   "mimetype": "text/x-python",
   "name": "python",
   "nbconvert_exporter": "python",
   "pygments_lexer": "ipython3",
   "version": "3.13.5"
  }
 },
 "nbformat": 4,
 "nbformat_minor": 5
}
